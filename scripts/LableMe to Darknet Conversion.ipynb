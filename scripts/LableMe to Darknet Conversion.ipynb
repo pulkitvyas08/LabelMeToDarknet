{
 "cells": [
  {
   "cell_type": "markdown",
   "metadata": {},
   "source": [
    "# Converting LabelMe JSON format to Darknet Format\n",
    "\n",
    "Darknet format specifies one *.txt file per image (if no objects in image, no *.txt file is required). \n",
    "\n",
    "The *.txt file specifications are:\n",
    "- One row per object\n",
    "- Each row is {\"class\" \"x_center\" \"y_center\" \"width\" \"height\"} format.\n",
    "- Box coordinates must be in normalized xywh format (from 0 - 1). If your boxes are in pixels, divide x_center and width by image width, and y_center and height by image height.\n",
    "- Class numbers are zero-indexed (start from 0)."
   ]
  },
  {
   "cell_type": "markdown",
   "metadata": {},
   "source": [
    "#### This code is written with the assumption of there being only one class in the dataset - person"
   ]
  },
  {
   "cell_type": "markdown",
   "metadata": {},
   "source": [
    "### Example code - "
   ]
  },
  {
   "cell_type": "code",
   "execution_count": null,
   "metadata": {},
   "outputs": [],
   "source": [
    "# read json file\n",
    "import json\n",
    "\n",
    "with open(\"test.json\", \"r\") as read_file:\n",
    "    json_data = json.load(read_file)\n",
    "\n",
    "# file constants\n",
    "w = json_data['imageWidth']                # width of image\n",
    "h = json_data['imageHeight']               # height of image\n",
    "category_idx = 0                           # category index - only one - person (0) - create a category of "
   ]
  },
  {
   "cell_type": "code",
   "execution_count": 73,
   "metadata": {},
   "outputs": [
    {
     "name": "stdout",
     "output_type": "stream",
     "text": [
      "0 0.7468877032520325 0.3859981933152664 0.025406504065040636 0.1038843721770551\n",
      "0 0.7729293699186992 0.40067750677506775 0.024136178861788538 0.09710930442637761\n",
      "0 0.8053226626016259 0.4266485998193315 0.024136178861788538 0.09485094850948517\n"
     ]
    }
   ],
   "source": [
    "for shape_contents in json_data['shapes']:\n",
    "    # Go through each point in all the bounding boxes\n",
    "    coords = []\n",
    "    for points in shape_contents['points']:\n",
    "        x, y = points         # extract x and y coordinates from the point and store it in a list\n",
    "        coords.append(x/w)    # x_center / width\n",
    "        coords.append(y/h)    # y_center / height\n",
    "    \n",
    "    x1, y1, x2, y2 = coords\n",
    "    \n",
    "    # bounding box width and height\n",
    "    bbox_width = x2 - x1\n",
    "    bbox_height = y2 - y1\n",
    "    \n",
    "    # Darknet format\n",
    "    print(f\"{category_idx} {x1 + bbox_width/2} {y1 + bbox_height/2} {bbox_width} {bbox_height}\")"
   ]
  },
  {
   "cell_type": "markdown",
   "metadata": {},
   "source": [
    "### Actual Code - \n",
    "\n",
    "(Navigate to the directory of the dataset first)"
   ]
  },
  {
   "cell_type": "code",
   "execution_count": 74,
   "metadata": {},
   "outputs": [
    {
     "name": "stdout",
     "output_type": "stream",
     "text": [
      "D:\\Workspace\\dataset\n"
     ]
    }
   ],
   "source": [
    "cd dataset"
   ]
  },
  {
   "cell_type": "code",
   "execution_count": 92,
   "metadata": {},
   "outputs": [],
   "source": [
    "import os\n",
    "import json\n",
    "from pathlib import Path\n",
    "\n",
    "category_idx = 0\n",
    "\n",
    "label_path = Path(\"../darknet_format/\")\n",
    "\n",
    "for file in os.listdir():\n",
    "    if file.endswith(\".json\"):\n",
    "        \n",
    "        label_name = os.path.splitext(file)[0] + \".txt\"\n",
    "        \n",
    "        with open(file, \"r\") as json_file:\n",
    "            json_data = json.load(json_file)\n",
    "        \n",
    "        w = json_data['imageWidth']\n",
    "        h = json_data['imageHeight']\n",
    "        \n",
    "        with (label_path / label_name).open(\"w\") as label_file:\n",
    "            for shape_contents in json_data['shapes']:\n",
    "                coords = []\n",
    "                for points in shape_contents['points']:\n",
    "                    x, y = points\n",
    "                    coords.append(x/w)\n",
    "                    coords.append(y/h)\n",
    "    \n",
    "                x1, y1, x2, y2 = coords\n",
    "    \n",
    "                bbox_width = x2 - x1\n",
    "                bbox_height = y2 - y1\n",
    "                label_file.write(f\"{category_idx} {x1 + bbox_width / 2} {y1 + bbox_height / 2} {bbox_width} {bbox_height}\\n\")"
   ]
  },
  {
   "cell_type": "code",
   "execution_count": null,
   "metadata": {},
   "outputs": [],
   "source": []
  }
 ],
 "metadata": {
  "kernelspec": {
   "display_name": "Python 3",
   "language": "python",
   "name": "python3"
  },
  "language_info": {
   "codemirror_mode": {
    "name": "ipython",
    "version": 3
   },
   "file_extension": ".py",
   "mimetype": "text/x-python",
   "name": "python",
   "nbconvert_exporter": "python",
   "pygments_lexer": "ipython3",
   "version": "3.7.6"
  }
 },
 "nbformat": 4,
 "nbformat_minor": 4
}
